{
 "cells": [
  {
   "cell_type": "markdown",
   "metadata": {},
   "source": [
    "# File handling"
   ]
  },
  {
   "cell_type": "markdown",
   "metadata": {},
   "source": [
    "## Basics"
   ]
  },
  {
   "cell_type": "code",
   "execution_count": null,
   "metadata": {},
   "outputs": [],
   "source": [
    "f = open(\"temp.txt\",\"w\")\n",
    "f.write(\"Hellooo\")\n",
    "f.close()"
   ]
  },
  {
   "cell_type": "code",
   "execution_count": null,
   "metadata": {},
   "outputs": [],
   "source": [
    "with open(\"myfile.txt\", \"w\") as f:\n",
    "    f.write(\"This is thesecond file\")\n",
    "# f.write(\"Trying outside the indentation\")"
   ]
  },
  {
   "cell_type": "code",
   "execution_count": null,
   "metadata": {},
   "outputs": [],
   "source": [
    "f = open(\"myfile.txt\",\"rb+\")\n",
    "print(f.read())\n",
    "print(f.readline())\n",
    "f.seek(0,0)\n",
    "print(f.readline())\n",
    "# l = list(f) # easily convert to list\n",
    "print(l)\n",
    "f.close()\n"
   ]
  },
  {
   "cell_type": "markdown",
   "metadata": {},
   "source": [
    " fileObject.seek(offset[, whence])\n",
    "Parameters\n",
    " offset − This is the position of the read/write pointer within the file.\n",
    "\n",
    " whence − This is optional and defaults to 0 which means absolute file positioning,\n",
    "other values are 1 which means seek relative to the current position and 2 means seek relative to the file's end.\n",
    "#### can only seek to the end (0,2) or from the beginning of the file in text files.\n",
    "#### binary files can be seeked however"
   ]
  },
  {
   "cell_type": "markdown",
   "metadata": {},
   "source": [
    "## Looping through files"
   ]
  },
  {
   "cell_type": "code",
   "execution_count": null,
   "metadata": {},
   "outputs": [],
   "source": [
    "f = open(\"myfile.txt\",\"r\")\n",
    "for line in f:\n",
    "    print(line)"
   ]
  },
  {
   "cell_type": "markdown",
   "metadata": {},
   "source": [
    "## Iterators"
   ]
  },
  {
   "cell_type": "code",
   "execution_count": null,
   "metadata": {},
   "outputs": [],
   "source": [
    "for element in [1, 2, 3]:\n",
    "    print(element)\n",
    "for element in (1, 2, 3):\n",
    "    print(element)\n",
    "for key in {'one':1, 'two':2}:\n",
    "    print(key)\n",
    "for char in \"123\":\n",
    "    print(char)\n",
    "for line in open(\"myfile.txt\"):\n",
    "    print(line, end='')"
   ]
  },
  {
   "cell_type": "markdown",
   "metadata": {},
   "source": [
    "### Iterator example"
   ]
  },
  {
   "cell_type": "code",
   "execution_count": null,
   "metadata": {},
   "outputs": [],
   "source": [
    "s = 'abc'\n",
    "it = iter(s)\n",
    "\n",
    "print(next(it))\n",
    "next(it)  # you cannot get get the current value; hold it\n",
    "print(next(it))\n",
    "\n"
   ]
  },
  {
   "cell_type": "markdown",
   "metadata": {},
   "source": [
    "###  loop"
   ]
  },
  {
   "cell_type": "code",
   "execution_count": null,
   "metadata": {},
   "outputs": [],
   "source": [
    "while(True):\n",
    "    try:\n",
    "        print(next(it))\n",
    "    except(StopIteration):\n",
    "        print(\"Reached the end\")\n",
    "        break"
   ]
  },
  {
   "cell_type": "markdown",
   "metadata": {},
   "source": [
    "## Custom iterator"
   ]
  },
  {
   "cell_type": "code",
   "execution_count": null,
   "metadata": {},
   "outputs": [],
   "source": [
    "class Reverse:\n",
    "    \"\"\"Iterator for looping over a sequence backwards.\"\"\"\n",
    "    def __init__(self, data):\n",
    "        self.data = data\n",
    "        self.index = len(data)\n",
    "\n",
    "    def __iter__(self): #imp\n",
    "        return self\n",
    "\n",
    "    def __next__(self): #imp\n",
    "        if self.index == 0:\n",
    "            raise StopIteration\n",
    "        self.index = self.index - 1\n",
    "        return self.data[self.index]\n",
    "\n",
    "rev = Reverse(\"Python at AIIMS\")\n",
    "print(next(rev))\n",
    "print(\"__\")\n",
    "\n",
    "# loops\n",
    "for char in rev:\n",
    "    print(char)\n",
    "\n",
    "# while(True):\n",
    "#     try:\n",
    "#         print(next(rev))\n",
    "#     except(StopIteration):\n",
    "#         print(\"Reached the end\")\n",
    "#         break\n"
   ]
  },
  {
   "cell_type": "code",
   "execution_count": null,
   "metadata": {},
   "outputs": [],
   "source": [
    "import json\n",
    "# f = open(\"dumpfile.txt\",'w+') # w+ will create the file too, r+ wont, a will create the file too\n",
    "with open(\"dumpfile.txt\",'r+') as f:\n",
    "    x = [1,2,3,4,5]\n",
    "    json.dump(x,f)\n",
    "\n",
    "f = open(\"dumpfile.txt\",'r+')\n",
    "y = json.load(f)\n",
    "print(sum(y))\n",
    "\n",
    "# see pickling for storing arbitrary objects)\n"
   ]
  }
 ],
 "metadata": {
  "kernelspec": {
   "display_name": "Python 3",
   "language": "python",
   "name": "python3"
  },
  "language_info": {
   "codemirror_mode": {
    "name": "ipython",
    "version": 3
   },
   "file_extension": ".py",
   "mimetype": "text/x-python",
   "name": "python",
   "nbconvert_exporter": "python",
   "pygments_lexer": "ipython3",
   "version": "3.6.4"
  }
 },
 "nbformat": 4,
 "nbformat_minor": 2
}
