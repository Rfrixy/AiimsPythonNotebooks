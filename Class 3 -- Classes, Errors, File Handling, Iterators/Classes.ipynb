{
 "cells": [
  {
   "cell_type": "markdown",
   "metadata": {},
   "source": [
    "# Classes\n",
    "\n",
    "There aren't any specific private variables.\n",
    "\n",
    "When creating variables shared by all instances, remember that data is passed by objet reference into python\n",
    "\n"
   ]
  },
  {
   "cell_type": "code",
   "execution_count": 1,
   "metadata": {},
   "outputs": [
    {
     "name": "stdout",
     "output_type": "stream",
     "text": [
      "Making obj\n",
      "Fido\n",
      "['canine']\n",
      "['canine']\n",
      "['canine', 'golden retriever']\n",
      "['canine', 'golden retriever']\n"
     ]
    }
   ],
   "source": [
    "class Dog: # CamelCase\n",
    "\n",
    "    kind = ['canine']         # class variable shared by all instances, code here will run when obj is created\n",
    "\n",
    "    def __init__(self, Name,height): # constructor, self is important here\n",
    "        self.name = Name    # instance variable unique to each instance\n",
    "        self.height = height \n",
    "\n",
    "\n",
    "d = Dog('Fido', 45)\n",
    "print(d.name)\n",
    "print(d.kind)\n",
    "\n",
    "d2 = Dog('Zlato', 32)\n",
    "print(d2.kind)\n",
    "d2.kind.append('golden retriever')\n",
    "print(d2.kind)\n",
    "print(d.kind)"
   ]
  },
  {
   "cell_type": "markdown",
   "metadata": {},
   "source": [
    "## Empty class"
   ]
  },
  {
   "cell_type": "code",
   "execution_count": null,
   "metadata": {},
   "outputs": [],
   "source": [
    "class Employee:\n",
    "    pass\n",
    "\n",
    "john = Employee()  # Create an empty employee record\n",
    "\n",
    "# Fill the fields of the record\n",
    "john.name = 'John Doe'\n",
    "john.dept = 'computer lab'\n",
    "john.salary = 1000"
   ]
  },
  {
   "cell_type": "markdown",
   "metadata": {},
   "source": [
    "## Inheritance and working with init\n"
   ]
  },
  {
   "cell_type": "code",
   "execution_count": 27,
   "metadata": {},
   "outputs": [
    {
     "name": "stdout",
     "output_type": "stream",
     "text": [
      "parent init\n",
      "child init\n",
      "10\n"
     ]
    }
   ],
   "source": [
    "class Food:\n",
    "    type = 'edible'\n",
    "\n",
    "    def __init__(self, shelfLife ):\n",
    "        self.shelfLife = shelfLife\n",
    "        print(\"parent init\")\n",
    "\n",
    "class VegFood(Food):\n",
    "    type = 'vegetarian food'\n",
    "    def __init__(self,shelfLife): #call super\n",
    "#         Food.__init__(self,shelfLife)\n",
    "        super().__init__(shelfLife)\n",
    "        print(\"child init\")\n",
    "        pass\n",
    "\n",
    "f = VegFood(10)\n",
    "print(f.shelfLife)"
   ]
  },
  {
   "cell_type": "markdown",
   "metadata": {},
   "source": [
    "## Solution to the diamond problem"
   ]
  },
  {
   "cell_type": "code",
   "execution_count": null,
   "metadata": {},
   "outputs": [],
   "source": [
    "\n",
    "class A:\n",
    "    def m(self):\n",
    "        print(\"m of A called\")\n",
    "\n",
    "\n",
    "class B(A):\n",
    "    def m(self):\n",
    "        print(\"m of B called\")\n",
    "\n",
    "\n",
    "class C(A):\n",
    "    def m(self):\n",
    "        print(\"m of C called\")\n",
    "\n",
    "\n",
    "class D(C,B):\n",
    "    pass\n",
    "\n",
    "d = D()\n",
    "d.m()"
   ]
  }
 ],
 "metadata": {
  "kernelspec": {
   "display_name": "Python 3",
   "language": "python",
   "name": "python3"
  },
  "language_info": {
   "codemirror_mode": {
    "name": "ipython",
    "version": 3
   },
   "file_extension": ".py",
   "mimetype": "text/x-python",
   "name": "python",
   "nbconvert_exporter": "python",
   "pygments_lexer": "ipython3",
   "version": "3.6.4"
  }
 },
 "nbformat": 4,
 "nbformat_minor": 2
}
