{
 "cells": [
  {
   "cell_type": "markdown",
   "metadata": {},
   "source": [
    "# Homework 2 solutions"
   ]
  },
  {
   "cell_type": "markdown",
   "metadata": {},
   "source": [
    "## Question 1\n",
    "Create a function that can take in infinite parameters and return their sum\n",
    "Hint: use *"
   ]
  },
  {
   "cell_type": "code",
   "execution_count": null,
   "metadata": {},
   "outputs": [],
   "source": [
    "def add (*x):\n",
    "    sum = 0\n",
    "    for item in x:\n",
    "        sum+=item\n",
    "    return sum\n",
    "\n",
    "print(add(3,4,5,6))"
   ]
  },
  {
   "cell_type": "markdown",
   "metadata": {},
   "source": [
    "## Question 2\n",
    "Create a list that goes from 1 to hundred using list comprehension.\n",
    "Use the map function with a lambda to square all items in the list.\n",
    "Use the filter function (with lambda function) to retain only even squares\n",
    "Use the reduce function to add the list together\n",
    "Hint: remember-  from functools import reduce"
   ]
  },
  {
   "cell_type": "code",
   "execution_count": null,
   "metadata": {},
   "outputs": [],
   "source": [
    "from functools import reduce\n",
    "l = [x for x in range (100)]\n",
    "l = list( map(lambda  x: x**2, l))\n",
    "l = list(filter(lambda x: x%2==0,l))\n",
    "l = reduce(lambda x,y: x+y,l)\n",
    "print(l)\n"
   ]
  },
  {
   "cell_type": "markdown",
   "metadata": {},
   "source": [
    "## Question 3\n",
    "Create a function that will return the sum of all integers in any dictionary of lists-\n",
    "```python\n",
    "Example_dict={‘A’: [10,20,30], ‘B’:[30,40]}\n",
    "```\n",
    "The function should return 130 when the example dictionary is passed in\n"
   ]
  },
  {
   "cell_type": "code",
   "execution_count": null,
   "metadata": {},
   "outputs": [],
   "source": [
    "monthly_takings = {'A': [20,45,30], 'B': [10,12], 'C': [100, 200]}\n",
    "\n",
    "def calculateTakings(monthly_takings):\n",
    "    total_cost = 0\n",
    "    for key in monthly_takings.keys():\n",
    "        for money in monthly_takings[key]: # or we can use the sum function\n",
    "            total_cost += money\n",
    "    return total_cost\n",
    "\n",
    "print(calculateTakings(monthly_takings))"
   ]
  }
 ],
 "metadata": {
  "kernelspec": {
   "display_name": "Python 3",
   "language": "python",
   "name": "python3"
  },
  "language_info": {
   "codemirror_mode": {
    "name": "ipython",
    "version": 3
   },
   "file_extension": ".py",
   "mimetype": "text/x-python",
   "name": "python",
   "nbconvert_exporter": "python",
   "pygments_lexer": "ipython3",
   "version": "3.6.4"
  }
 },
 "nbformat": 4,
 "nbformat_minor": 2
}
