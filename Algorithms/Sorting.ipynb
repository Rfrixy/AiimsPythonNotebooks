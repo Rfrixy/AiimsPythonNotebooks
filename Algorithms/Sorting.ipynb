{
 "cells": [
  {
   "cell_type": "markdown",
   "metadata": {},
   "source": [
    "# Sorting"
   ]
  },
  {
   "cell_type": "markdown",
   "metadata": {},
   "source": [
    "### Quick-Sort"
   ]
  },
  {
   "cell_type": "code",
   "execution_count": 1,
   "metadata": {
    "scrolled": true
   },
   "outputs": [
    {
     "name": "stdout",
     "output_type": "stream",
     "text": [
      "[1, 1, 2, 3, 6, 8, 10]\n"
     ]
    }
   ],
   "source": [
    "def quicksort(arr):\n",
    "    if len(arr) <= 1:\n",
    "        return arr\n",
    "    \n",
    "    pivot = arr[len(arr) // 2]\n",
    "    left,right,middle = [],[],[]\n",
    "    \n",
    "    for x in arr:\n",
    "        if x < pivot:\n",
    "            left.append(x)\n",
    "        if x > pivot:\n",
    "            right.append(x)\n",
    "        if x == pivot:\n",
    "            middle.append(x)\n",
    "            \n",
    "    return quicksort(left) + middle + quicksort(right)\n",
    "\n",
    "print (quicksort([3,6,8,10,1,2,1]))"
   ]
  },
  {
   "cell_type": "markdown",
   "metadata": {},
   "source": [
    "### Merge-Sort\n",
    "\n",
    "The array is recursively split up into two halves and then recombined."
   ]
  },
  {
   "cell_type": "code",
   "execution_count": 9,
   "metadata": {},
   "outputs": [
    {
     "name": "stdout",
     "output_type": "stream",
     "text": [
      "[1, 1, 2, 3, 6, 8, 10]\n"
     ]
    }
   ],
   "source": [
    "import matplotlib.pyplot as plt\n",
    "\n",
    "def mergesort(nums):\n",
    "    if len(nums)==1:\n",
    "        return list(nums)\n",
    "\n",
    "    pivot = len(nums)//2;\n",
    "    left = mergesort(nums[:pivot])\n",
    "    right = mergesort(nums[pivot:])\n",
    "    ans = []\n",
    "    total_length = len(left) + len(right)\n",
    "    while len(left) > 0 and len (right) > 0:\n",
    "        if left[0] <= right[0]:\n",
    "            ans.append(left.pop(0))\n",
    "        else:\n",
    "            ans.append(right.pop(0))\n",
    "    ans.extend(left)\n",
    "    ans.extend(right)\n",
    "    return list(ans)\n",
    "\n",
    "print(mergesort([3,6,8,10,1,2,1]))"
   ]
  }
 ],
 "metadata": {
  "kernelspec": {
   "display_name": "Python 3",
   "language": "python",
   "name": "python3"
  },
  "language_info": {
   "codemirror_mode": {
    "name": "ipython",
    "version": 3
   },
   "file_extension": ".py",
   "mimetype": "text/x-python",
   "name": "python",
   "nbconvert_exporter": "python",
   "pygments_lexer": "ipython3",
   "version": "3.6.4"
  }
 },
 "nbformat": 4,
 "nbformat_minor": 2
}
