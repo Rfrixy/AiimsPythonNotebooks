{
 "cells": [
  {
   "cell_type": "markdown",
   "metadata": {},
   "source": [
    "## Strings\n",
    "\n",
    "Python strings are immutable, iterable.\n",
    "They can be enclosed in either single or double quotes\n"
   ]
  },
  {
   "cell_type": "code",
   "execution_count": null,
   "metadata": {},
   "outputs": [],
   "source": [
    "#Strings can be continued on the next line\n",
    "print (\"This string is continued on the\\\n",
    "next line (in the source) but a newline is not added\")\n",
    "\n"
   ]
  },
  {
   "cell_type": "code",
   "execution_count": null,
   "metadata": {},
   "outputs": [],
   "source": [
    "#Raw strings\n",
    "print (r\"The newline character is represented with \\n\")\n",
    "\n",
    "\n"
   ]
  },
  {
   "cell_type": "code",
   "execution_count": null,
   "metadata": {},
   "outputs": [],
   "source": [
    "#See how the strings are concatenated\n",
    "print ('hello ' + 'world')\n",
    "\n"
   ]
  },
  {
   "cell_type": "code",
   "execution_count": null,
   "metadata": {},
   "outputs": [],
   "source": [
    "#Notice how the print statement accepts , separated values\n",
    "print('2 + 3 = ', (2+3))\n",
    "\n"
   ]
  },
  {
   "cell_type": "code",
   "execution_count": null,
   "metadata": {},
   "outputs": [],
   "source": [
    "#Getting the length of a string\n",
    "greeting = \"Hello my dear friend how are you?\"\n",
    "print (\"the length of string '\" ,greeting, \"' is \", len(greeting))\n",
    "\n"
   ]
  },
  {
   "cell_type": "code",
   "execution_count": null,
   "metadata": {},
   "outputs": [],
   "source": [
    "#Let's check if the string contains the word 'Hello'\n",
    "if 'Hello' in greeting:\n",
    "    print ('This greeting seems to be in English')\n",
    "\n",
    "if greeting.find('Hello') != -1:\n",
    "    print ('This greeting seems to be in English')\n",
    "\n",
    "print(greeting.find('Hello'), \" index\")"
   ]
  },
  {
   "cell_type": "markdown",
   "metadata": {},
   "source": [
    "## Numbers\n",
    "\n",
    "Are either floating point numbers or integers - no other types."
   ]
  },
  {
   "cell_type": "code",
   "execution_count": null,
   "metadata": {},
   "outputs": [],
   "source": [
    "# This will give a floating result\n",
    "print(6/5)\n",
    "\n"
   ]
  },
  {
   "cell_type": "code",
   "execution_count": null,
   "metadata": {},
   "outputs": [],
   "source": [
    "#This wont\n",
    "print(6//5)\n",
    "\n"
   ]
  },
  {
   "cell_type": "code",
   "execution_count": null,
   "metadata": {},
   "outputs": [],
   "source": [
    "#Exponent\n",
    "print(3**3)\n"
   ]
  },
  {
   "cell_type": "code",
   "execution_count": null,
   "metadata": {},
   "outputs": [],
   "source": [
    "#others\n",
    "print( 4 * 2 - 4)\n",
    "\n"
   ]
  },
  {
   "cell_type": "code",
   "execution_count": null,
   "metadata": {},
   "outputs": [],
   "source": [
    "#Conversion\n",
    "a = \"hello \"\n",
    "b = 3\n",
    "print(type(b))\n",
    "a+= str(b)\n",
    "\n"
   ]
  },
  {
   "cell_type": "markdown",
   "metadata": {},
   "source": [
    "## String formatting \n",
    "**Quick Note:** locals() is a key-value pair that holds all the variables in the current scope. We use ** to read it as a dictionary.\n",
    "https://stackoverflow.com/questions/7969949/whats-the-difference-between-globals-locals-and-vars"
   ]
  },
  {
   "cell_type": "code",
   "execution_count": null,
   "metadata": {},
   "outputs": [],
   "source": [
    "greeting = 'Hello'\n",
    "name = 'John'\n",
    "print(\"{} {} how are you?\".format(greeting,name))\n",
    "print(\"{greeting} {name} how are you?\".format(**locals()))"
   ]
  },
  {
   "cell_type": "markdown",
   "metadata": {},
   "source": [
    "## Dictionaries\n",
    " A Python dictionary is a collection which contains key value pairs, where the key must be an immutable object"
   ]
  },
  {
   "cell_type": "code",
   "execution_count": null,
   "metadata": {},
   "outputs": [],
   "source": [
    "phonebook =  {'joe':'568-564-1109', 'ashish':'657-097-7862'}\n",
    "\n"
   ]
  },
  {
   "cell_type": "code",
   "execution_count": null,
   "metadata": {},
   "outputs": [],
   "source": [
    "print (\"\\nPrinting the phonebook\")\n",
    "print (phonebook)\n",
    "print (\"\\nPrinting joe's phone number\")\n",
    "print(phonebook['joe'])\n",
    "\n"
   ]
  },
  {
   "cell_type": "code",
   "execution_count": null,
   "metadata": {},
   "outputs": [],
   "source": [
    "print (\"\\nAdding an element to the phonebook\")\n",
    "phonebook['joel'] = '657'\n",
    "print (\"\\nPrinting the phone number of the newly added contact joel\")\n",
    "print (phonebook['joel'])\n",
    "\n"
   ]
  },
  {
   "cell_type": "code",
   "execution_count": null,
   "metadata": {},
   "outputs": [],
   "source": [
    "print (\"\\nIterating across the phonebook with it's keys\")\n",
    "for k in phonebook.keys():\n",
    "   print (k, phonebook[k])\n",
    "\n"
   ]
  },
  {
   "cell_type": "code",
   "execution_count": null,
   "metadata": {},
   "outputs": [],
   "source": [
    "print (\"\\nHere's how we remove an element from the dictionary - removing 'joel'\")\n",
    "del(phonebook['joel'])\n",
    "\n"
   ]
  },
  {
   "cell_type": "code",
   "execution_count": null,
   "metadata": {},
   "outputs": [],
   "source": [
    "print (\"\\nIterating across the phonebook with key and value\")\n",
    "for k, v in phonebook.items():\n",
    "   print (k, v)"
   ]
  }
 ],
 "metadata": {
  "kernelspec": {
   "display_name": "Python 3",
   "language": "python",
   "name": "python3"
  },
  "language_info": {
   "codemirror_mode": {
    "name": "ipython",
    "version": 3
   },
   "file_extension": ".py",
   "mimetype": "text/x-python",
   "name": "python",
   "nbconvert_exporter": "python",
   "pygments_lexer": "ipython3",
   "version": "3.6.4"
  }
 },
 "nbformat": 4,
 "nbformat_minor": 2
}
