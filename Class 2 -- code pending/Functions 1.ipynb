{
 "cells": [
  {
   "cell_type": "markdown",
   "metadata": {},
   "source": [
    "# Functions"
   ]
  },
  {
   "cell_type": "markdown",
   "metadata": {},
   "source": [
    "## Basic function to return items as an unordered html list\n"
   ]
  },
  {
   "cell_type": "code",
   "execution_count": 3,
   "metadata": {},
   "outputs": [
    {
     "name": "stdout",
     "output_type": "stream",
     "text": [
      "<ul>\n",
      "<li>bat<\\li>\n",
      "<li>ball<\\li>\n",
      "<li>wickets<\\li>\n",
      "</ul>\n"
     ]
    }
   ],
   "source": [
    "def html_list(list1):\n",
    "    ans = \"<ul>\\n\"\n",
    "    for x in list1:\n",
    "        ans += \"<li>\" + x + \"<\\li>\\n\"\n",
    "    return ans + \"</ul>\"\n",
    "\n",
    "cricketRequirements = ['bat','ball','wickets']\n",
    "print(html_list(cricketRequirements))"
   ]
  },
  {
   "cell_type": "markdown",
   "metadata": {},
   "source": [
    "## Lambda function"
   ]
  },
  {
   "cell_type": "code",
   "execution_count": 3,
   "metadata": {},
   "outputs": [
    {
     "name": "stdout",
     "output_type": "stream",
     "text": [
      "0.75\n",
      "<class 'function'>\n",
      "0.75\n"
     ]
    }
   ],
   "source": [
    "def division(x,y):\n",
    "    return x/y;\n",
    "\n",
    "a = 'cat'\n",
    "f = division\n",
    "print(f(3,4))\n",
    "f = lambda x,y: x/y\n",
    "print(type(f))\n",
    "print(f(3,4))"
   ]
  },
  {
   "cell_type": "markdown",
   "metadata": {},
   "source": [
    "## Infinite arguments\n"
   ]
  },
  {
   "cell_type": "code",
   "execution_count": 17,
   "metadata": {},
   "outputs": [
    {
     "name": "stdout",
     "output_type": "stream",
     "text": [
      "15\n"
     ]
    }
   ],
   "source": [
    "# '*' is used to pack arguments as tuple, ** is used to pack key-value pairs as a dictionary\n",
    "\n",
    "\n",
    "def any_argument_addition(*args): # * changes it to tuple\n",
    "    a = 0\n",
    "    for x in args:\n",
    "        a += x\n",
    "    return a\n",
    "\n",
    "print(any_argument_addition(1,2,3,4,5))"
   ]
  },
  {
   "cell_type": "code",
   "execution_count": 20,
   "metadata": {},
   "outputs": [
    {
     "name": "stdout",
     "output_type": "stream",
     "text": [
      "15\n"
     ]
    }
   ],
   "source": [
    "def kw_argument_addition(**kwargs): # ** changes it to dict\n",
    "    a = 0\n",
    "    for x in kwargs.values():\n",
    "        a += x\n",
    "    return a\n",
    "\n",
    "print(kw_argument_addition(a=1, b=2,c=3,d=4,e=5))"
   ]
  },
  {
   "cell_type": "code",
   "execution_count": 21,
   "metadata": {},
   "outputs": [
    {
     "name": "stdout",
     "output_type": "stream",
     "text": [
      "30\n"
     ]
    }
   ],
   "source": [
    "def both_argument_addition (*positional, **keywords):\n",
    "    a = 0\n",
    "    for x in positional:\n",
    "        a += x\n",
    "    for x in keywords.values():\n",
    "        a += x\n",
    "    return a\n",
    "\n",
    "print(both_argument_addition(1,2,3,4,5, a=1, b=2,c=3,d=4,e=5))"
   ]
  }
 ],
 "metadata": {
  "kernelspec": {
   "display_name": "Python 3",
   "language": "python",
   "name": "python3"
  },
  "language_info": {
   "codemirror_mode": {
    "name": "ipython",
    "version": 3
   },
   "file_extension": ".py",
   "mimetype": "text/x-python",
   "name": "python",
   "nbconvert_exporter": "python",
   "pygments_lexer": "ipython3",
   "version": "3.6.4"
  }
 },
 "nbformat": 4,
 "nbformat_minor": 2
}
